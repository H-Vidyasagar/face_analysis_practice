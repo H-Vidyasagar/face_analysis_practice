{
 "cells": [
  {
   "cell_type": "code",
   "execution_count": 32,
   "id": "fc0ba394",
   "metadata": {},
   "outputs": [],
   "source": [
    "import cv2 as cv\n",
    "\n",
    "img = cv.imread(\"image.jpg\")\n",
    "img = cv.resize(img, (img.shape[1]//2,img.shape[0]//2 )) \n",
    "img=img[0:600, 50:700]\n",
    "gray= cv.cvtColor(img, cv.COLOR_BGR2GRAY)\n",
    "haar_cascade = cv.CascadeClassifier('haar_face.xml')\n"
   ]
  },
  {
   "cell_type": "code",
   "execution_count": 34,
   "id": "9110451f",
   "metadata": {},
   "outputs": [
    {
     "name": "stdout",
     "output_type": "stream",
     "text": [
      "number of faces = 6\n"
     ]
    }
   ],
   "source": [
    "faces_rect = haar_cascade.detectMultiScale(gray, scaleFactor=1.1 , minNeighbors = 3)\n",
    "print(f'number of faces = {len(faces_rect)}')"
   ]
  },
  {
   "cell_type": "code",
   "execution_count": 39,
   "id": "2f9d4b64",
   "metadata": {},
   "outputs": [
    {
     "data": {
      "text/plain": [
       "-1"
      ]
     },
     "execution_count": 39,
     "metadata": {},
     "output_type": "execute_result"
    }
   ],
   "source": [
    "for (x,y,w,h) in faces_rect:\n",
    "    cv.rectangle(img,(x,y),(x+w,y+h), (0,255,0), thickness=1)\n",
    "\n",
    "cv.imshow(\"faces\", img)\n",
    "cv.waitKey(0)"
   ]
  },
  {
   "cell_type": "code",
   "execution_count": null,
   "id": "dc27352e",
   "metadata": {},
   "outputs": [],
   "source": []
  }
 ],
 "metadata": {
  "kernelspec": {
   "display_name": "Python 3 (ipykernel)",
   "language": "python",
   "name": "python3"
  },
  "language_info": {
   "codemirror_mode": {
    "name": "ipython",
    "version": 3
   },
   "file_extension": ".py",
   "mimetype": "text/x-python",
   "name": "python",
   "nbconvert_exporter": "python",
   "pygments_lexer": "ipython3",
   "version": "3.10.6"
  }
 },
 "nbformat": 4,
 "nbformat_minor": 5
}
