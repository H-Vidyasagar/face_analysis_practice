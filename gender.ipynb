{
 "cells": [
  {
   "cell_type": "code",
   "execution_count": 1,
   "id": "000840b6",
   "metadata": {},
   "outputs": [],
   "source": [
    "import numpy as np\n",
    "import pandas as pd\n",
    "import matplotlib.pyplot as plt\n",
    "import seaborn as sns\n",
    "import tensorflow as tf\n",
    "from tensorflow.keras.preprocessing.image import ImageDataGenerator\n",
    "from tensorflow.keras.callbacks import EarlyStopping,ReduceLROnPlateau\n",
    "from tensorflow.keras.models import Sequential\n",
    "from tensorflow.keras.layers import Dense,Flatten,MaxPooling2D,Conv2D,Dropout,Activation,BatchNormalization\n",
    "from sklearn.metrics import confusion_matrix\n",
    "from sklearn.model_selection import train_test_split\n",
    "from sklearn.utils import shuffle\n",
    "import os\n",
    "os.environ['TF_CPP_MIN_LOG_LEVEL'] = '3' \n",
    "import warnings \n",
    "warnings.filterwarnings('ignore')"
   ]
  },
  {
   "cell_type": "code",
   "execution_count": 2,
   "id": "548b60da",
   "metadata": {},
   "outputs": [
    {
     "data": {
      "text/html": [
       "<div>\n",
       "<style scoped>\n",
       "    .dataframe tbody tr th:only-of-type {\n",
       "        vertical-align: middle;\n",
       "    }\n",
       "\n",
       "    .dataframe tbody tr th {\n",
       "        vertical-align: top;\n",
       "    }\n",
       "\n",
       "    .dataframe thead th {\n",
       "        text-align: right;\n",
       "    }\n",
       "</style>\n",
       "<table border=\"1\" class=\"dataframe\">\n",
       "  <thead>\n",
       "    <tr style=\"text-align: right;\">\n",
       "      <th></th>\n",
       "      <th>age</th>\n",
       "      <th>ethnicity</th>\n",
       "      <th>gender</th>\n",
       "      <th>img_name</th>\n",
       "      <th>pixels</th>\n",
       "    </tr>\n",
       "  </thead>\n",
       "  <tbody>\n",
       "    <tr>\n",
       "      <th>9960</th>\n",
       "      <td>29</td>\n",
       "      <td>3</td>\n",
       "      <td>1</td>\n",
       "      <td>20170104222730103.jpg.chip.jpg</td>\n",
       "      <td>14 15 17 14 7 1 1 2 5 8 10 7 20 42 58 71 79 88...</td>\n",
       "    </tr>\n",
       "    <tr>\n",
       "      <th>844</th>\n",
       "      <td>1</td>\n",
       "      <td>3</td>\n",
       "      <td>1</td>\n",
       "      <td>20161220143313302.jpg.chip.jpg</td>\n",
       "      <td>83 115 133 136 145 155 155 163 151 141 146 154...</td>\n",
       "    </tr>\n",
       "    <tr>\n",
       "      <th>21154</th>\n",
       "      <td>63</td>\n",
       "      <td>0</td>\n",
       "      <td>0</td>\n",
       "      <td>20170117162837819.jpg.chip.jpg</td>\n",
       "      <td>189 189 189 183 182 193 226 208 205 213 217 21...</td>\n",
       "    </tr>\n",
       "    <tr>\n",
       "      <th>22082</th>\n",
       "      <td>70</td>\n",
       "      <td>3</td>\n",
       "      <td>1</td>\n",
       "      <td>20170119150943854.jpg.chip.jpg</td>\n",
       "      <td>79 69 44 158 210 231 202 138 164 214 227 228 2...</td>\n",
       "    </tr>\n",
       "    <tr>\n",
       "      <th>4654</th>\n",
       "      <td>24</td>\n",
       "      <td>3</td>\n",
       "      <td>1</td>\n",
       "      <td>20170119164716909.jpg.chip.jpg</td>\n",
       "      <td>29 64 119 76 122 159 88 65 59 44 30 63 82 88 1...</td>\n",
       "    </tr>\n",
       "  </tbody>\n",
       "</table>\n",
       "</div>"
      ],
      "text/plain": [
       "       age  ethnicity  gender                        img_name  \\\n",
       "9960    29          3       1  20170104222730103.jpg.chip.jpg   \n",
       "844      1          3       1  20161220143313302.jpg.chip.jpg   \n",
       "21154   63          0       0  20170117162837819.jpg.chip.jpg   \n",
       "22082   70          3       1  20170119150943854.jpg.chip.jpg   \n",
       "4654    24          3       1  20170119164716909.jpg.chip.jpg   \n",
       "\n",
       "                                                  pixels  \n",
       "9960   14 15 17 14 7 1 1 2 5 8 10 7 20 42 58 71 79 88...  \n",
       "844    83 115 133 136 145 155 155 163 151 141 146 154...  \n",
       "21154  189 189 189 183 182 193 226 208 205 213 217 21...  \n",
       "22082  79 69 44 158 210 231 202 138 164 214 227 228 2...  \n",
       "4654   29 64 119 76 122 159 88 65 59 44 30 63 82 88 1...  "
      ]
     },
     "execution_count": 2,
     "metadata": {},
     "output_type": "execute_result"
    }
   ],
   "source": [
    "\n",
    "\n",
    "df = pd.read_csv(r\"C:\\Users\\haral\\Downloads\\archive (10)\\age_gender.csv\")\n",
    "df = shuffle(df)\n",
    "df.head()"
   ]
  },
  {
   "cell_type": "code",
   "execution_count": 3,
   "id": "bfe250e2",
   "metadata": {},
   "outputs": [
    {
     "name": "stdout",
     "output_type": "stream",
     "text": [
      "2304 48 48\n"
     ]
    }
   ],
   "source": [
    "num_pixels = len(df['pixels'][0].split(\" \"))\n",
    "img_height = int(np.sqrt(len(df['pixels'][0].split(\" \"))))\n",
    "img_width = int(np.sqrt(len(df['pixels'][0].split(\" \"))))\n",
    "print(num_pixels, img_height, img_width)"
   ]
  },
  {
   "cell_type": "code",
   "execution_count": 4,
   "id": "2dd701d9",
   "metadata": {},
   "outputs": [],
   "source": [
    "df['pixels'] = df['pixels'].apply(lambda x: np.array(x.split(),dtype='float32'))"
   ]
  },
  {
   "cell_type": "code",
   "execution_count": null,
   "id": "45335572",
   "metadata": {},
   "outputs": [],
   "source": []
  },
  {
   "cell_type": "code",
   "execution_count": 5,
   "id": "0d49f6f6",
   "metadata": {},
   "outputs": [],
   "source": [
    "X = np.array(df['pixels'].tolist())\n",
    "X = np.reshape(X, (-1, 48, 48,1))\n",
    "y = df['gender']\n",
    "X_train_gender, X_test_gender, y_train_gender, y_test_gender = train_test_split(X, y, test_size=0.3, random_state=44)"
   ]
  },
  {
   "cell_type": "code",
   "execution_count": 8,
   "id": "171d708a",
   "metadata": {},
   "outputs": [],
   "source": [
    "train_datagen=ImageDataGenerator(rescale=1/255)\n",
    "train_generator_gender=train_datagen.flow(\n",
    "    X_train_gender ,y_train_gender ,batch_size=32 \n",
    ")\n",
    "\n",
    "test_datagen=ImageDataGenerator(rescale=1/255)\n",
    "test_generator_gender=test_datagen.flow(\n",
    "    X_test_gender ,y_test_gender ,batch_size=32 \n",
    " \n",
    ")"
   ]
  },
  {
   "cell_type": "code",
   "execution_count": 9,
   "id": "d271609d",
   "metadata": {},
   "outputs": [],
   "source": [
    "train_generator_gender =train_datagen.flow(\n",
    "    X_train_gender ,y_train_gender ,batch_size=32\n",
    ")\n",
    "\n",
    "test_generator_gender =test_datagen.flow(\n",
    "    X_test_gender ,y_test_gender ,batch_size=32\n",
    ")"
   ]
  },
  {
   "cell_type": "code",
   "execution_count": 10,
   "id": "b69b220c",
   "metadata": {},
   "outputs": [],
   "source": [
    "earlystop=EarlyStopping(patience=6)\n",
    "learning_rate_reduction=ReduceLROnPlateau(\n",
    "    monitor='val_acc',\n",
    "    patience= 3,\n",
    "    verbose=1,\n",
    ")\n",
    "callbacks = [earlystop, learning_rate_reduction]"
   ]
  },
  {
   "cell_type": "code",
   "execution_count": 11,
   "id": "ddae7b7c",
   "metadata": {},
   "outputs": [],
   "source": [
    "y = df['ethnicity']\n",
    "X_train_ethnicity, X_test_ethnicity, y_train_ethnicity, y_test_ethnicity = train_test_split(X, y, test_size=0.3, random_state=44)"
   ]
  },
  {
   "cell_type": "code",
   "execution_count": null,
   "id": "7042075d",
   "metadata": {},
   "outputs": [],
   "source": []
  },
  {
   "cell_type": "code",
   "execution_count": 12,
   "id": "f7399c9d",
   "metadata": {},
   "outputs": [
    {
     "name": "stdout",
     "output_type": "stream",
     "text": [
      "Model: \"sequential\"\n",
      "_________________________________________________________________\n",
      " Layer (type)                Output Shape              Param #   \n",
      "=================================================================\n",
      " conv2d (Conv2D)             (None, 46, 46, 32)        320       \n",
      "                                                                 \n",
      " max_pooling2d (MaxPooling2D  (None, 23, 23, 32)       0         \n",
      " )                                                               \n",
      "                                                                 \n",
      " conv2d_1 (Conv2D)           (None, 21, 21, 64)        18496     \n",
      "                                                                 \n",
      " max_pooling2d_1 (MaxPooling  (None, 10, 10, 64)       0         \n",
      " 2D)                                                             \n",
      "                                                                 \n",
      " conv2d_2 (Conv2D)           (None, 8, 8, 64)          36928     \n",
      "                                                                 \n",
      " max_pooling2d_2 (MaxPooling  (None, 4, 4, 64)         0         \n",
      " 2D)                                                             \n",
      "                                                                 \n",
      " flatten (Flatten)           (None, 1024)              0         \n",
      "                                                                 \n",
      " dense (Dense)               (None, 1)                 1025      \n",
      "                                                                 \n",
      "=================================================================\n",
      "Total params: 56,769\n",
      "Trainable params: 56,769\n",
      "Non-trainable params: 0\n",
      "_________________________________________________________________\n"
     ]
    }
   ],
   "source": [
    "model_gender = Sequential()\n",
    "\n",
    "model_gender.add(Conv2D(32,(3,3),activation='relu',input_shape=(48,48,1)))\n",
    "model_gender.add(MaxPooling2D(2,2))\n",
    "\n",
    "model_gender.add(Conv2D(64,(3,3),activation='relu'))\n",
    "model_gender.add(MaxPooling2D(2,2))\n",
    "\n",
    "model_gender.add(Conv2D(64,(3,3),activation='relu'))\n",
    "model_gender.add(MaxPooling2D(2,2))\n",
    "\n",
    "model_gender.add(Flatten())\n",
    "model_gender.add(Dense(1,activation='sigmoid'))\n",
    "\n",
    "model_gender.compile(optimizer='SGD' ,loss='BinaryCrossentropy',metrics=['accuracy'])\n",
    "\n",
    "model_gender.summary()"
   ]
  },
  {
   "cell_type": "code",
   "execution_count": 18,
   "id": "7d667959",
   "metadata": {},
   "outputs": [
    {
     "name": "stdout",
     "output_type": "stream",
     "text": [
      "Epoch 1/20\n",
      "519/519 [==============================] - ETA: 0s - loss: 0.3169 - accuracy: 0.8620WARNING:tensorflow:Learning rate reduction is conditioned on metric `val_acc` which is not available. Available metrics are: loss,accuracy,val_loss,val_accuracy,lr\n",
      "519/519 [==============================] - 21s 40ms/step - loss: 0.3169 - accuracy: 0.8620 - val_loss: 0.3309 - val_accuracy: 0.8525 - lr: 0.0100\n",
      "Epoch 2/20\n",
      "519/519 [==============================] - ETA: 0s - loss: 0.3109 - accuracy: 0.8657WARNING:tensorflow:Learning rate reduction is conditioned on metric `val_acc` which is not available. Available metrics are: loss,accuracy,val_loss,val_accuracy,lr\n",
      "519/519 [==============================] - 21s 40ms/step - loss: 0.3109 - accuracy: 0.8657 - val_loss: 0.3357 - val_accuracy: 0.8570 - lr: 0.0100\n",
      "Epoch 3/20\n",
      "519/519 [==============================] - ETA: 0s - loss: 0.3084 - accuracy: 0.8675WARNING:tensorflow:Learning rate reduction is conditioned on metric `val_acc` which is not available. Available metrics are: loss,accuracy,val_loss,val_accuracy,lr\n",
      "519/519 [==============================] - 21s 41ms/step - loss: 0.3084 - accuracy: 0.8675 - val_loss: 0.3241 - val_accuracy: 0.8583 - lr: 0.0100\n",
      "Epoch 4/20\n",
      "519/519 [==============================] - ETA: 0s - loss: 0.3019 - accuracy: 0.8696WARNING:tensorflow:Learning rate reduction is conditioned on metric `val_acc` which is not available. Available metrics are: loss,accuracy,val_loss,val_accuracy,lr\n",
      "519/519 [==============================] - 21s 41ms/step - loss: 0.3019 - accuracy: 0.8696 - val_loss: 0.3355 - val_accuracy: 0.8518 - lr: 0.0100\n",
      "Epoch 5/20\n",
      "519/519 [==============================] - ETA: 0s - loss: 0.2987 - accuracy: 0.8716WARNING:tensorflow:Learning rate reduction is conditioned on metric `val_acc` which is not available. Available metrics are: loss,accuracy,val_loss,val_accuracy,lr\n",
      "519/519 [==============================] - 21s 41ms/step - loss: 0.2987 - accuracy: 0.8716 - val_loss: 0.3242 - val_accuracy: 0.8608 - lr: 0.0100\n",
      "Epoch 6/20\n",
      "519/519 [==============================] - ETA: 0s - loss: 0.2935 - accuracy: 0.8746WARNING:tensorflow:Learning rate reduction is conditioned on metric `val_acc` which is not available. Available metrics are: loss,accuracy,val_loss,val_accuracy,lr\n",
      "519/519 [==============================] - 21s 41ms/step - loss: 0.2935 - accuracy: 0.8746 - val_loss: 0.3219 - val_accuracy: 0.8623 - lr: 0.0100\n",
      "Epoch 7/20\n",
      "519/519 [==============================] - ETA: 0s - loss: 0.2901 - accuracy: 0.8749WARNING:tensorflow:Learning rate reduction is conditioned on metric `val_acc` which is not available. Available metrics are: loss,accuracy,val_loss,val_accuracy,lr\n",
      "519/519 [==============================] - 21s 41ms/step - loss: 0.2901 - accuracy: 0.8749 - val_loss: 0.3194 - val_accuracy: 0.8622 - lr: 0.0100\n",
      "Epoch 8/20\n",
      "519/519 [==============================] - ETA: 0s - loss: 0.2864 - accuracy: 0.8773WARNING:tensorflow:Learning rate reduction is conditioned on metric `val_acc` which is not available. Available metrics are: loss,accuracy,val_loss,val_accuracy,lr\n",
      "519/519 [==============================] - 21s 41ms/step - loss: 0.2864 - accuracy: 0.8773 - val_loss: 0.3372 - val_accuracy: 0.8543 - lr: 0.0100\n",
      "Epoch 9/20\n",
      "518/519 [============================>.] - ETA: 0s - loss: 0.2823 - accuracy: 0.8791WARNING:tensorflow:Learning rate reduction is conditioned on metric `val_acc` which is not available. Available metrics are: loss,accuracy,val_loss,val_accuracy,lr\n",
      "519/519 [==============================] - 22s 42ms/step - loss: 0.2825 - accuracy: 0.8789 - val_loss: 0.3145 - val_accuracy: 0.8626 - lr: 0.0100\n",
      "Epoch 10/20\n",
      "519/519 [==============================] - ETA: 0s - loss: 0.2797 - accuracy: 0.8804WARNING:tensorflow:Learning rate reduction is conditioned on metric `val_acc` which is not available. Available metrics are: loss,accuracy,val_loss,val_accuracy,lr\n",
      "519/519 [==============================] - 21s 40ms/step - loss: 0.2797 - accuracy: 0.8804 - val_loss: 0.3088 - val_accuracy: 0.8666 - lr: 0.0100\n",
      "Epoch 11/20\n",
      "519/519 [==============================] - ETA: 0s - loss: 0.2769 - accuracy: 0.8823WARNING:tensorflow:Learning rate reduction is conditioned on metric `val_acc` which is not available. Available metrics are: loss,accuracy,val_loss,val_accuracy,lr\n",
      "519/519 [==============================] - 22s 41ms/step - loss: 0.2769 - accuracy: 0.8823 - val_loss: 0.3072 - val_accuracy: 0.8668 - lr: 0.0100\n",
      "Epoch 12/20\n",
      "519/519 [==============================] - ETA: 0s - loss: 0.2736 - accuracy: 0.8848WARNING:tensorflow:Learning rate reduction is conditioned on metric `val_acc` which is not available. Available metrics are: loss,accuracy,val_loss,val_accuracy,lr\n",
      "519/519 [==============================] - 21s 41ms/step - loss: 0.2736 - accuracy: 0.8848 - val_loss: 0.3080 - val_accuracy: 0.8642 - lr: 0.0100\n",
      "Epoch 13/20\n",
      "519/519 [==============================] - ETA: 0s - loss: 0.2699 - accuracy: 0.8866WARNING:tensorflow:Learning rate reduction is conditioned on metric `val_acc` which is not available. Available metrics are: loss,accuracy,val_loss,val_accuracy,lr\n",
      "519/519 [==============================] - 24s 46ms/step - loss: 0.2699 - accuracy: 0.8866 - val_loss: 0.3061 - val_accuracy: 0.8652 - lr: 0.0100\n",
      "Epoch 14/20\n",
      "518/519 [============================>.] - ETA: 0s - loss: 0.2652 - accuracy: 0.8882WARNING:tensorflow:Learning rate reduction is conditioned on metric `val_acc` which is not available. Available metrics are: loss,accuracy,val_loss,val_accuracy,lr\n",
      "519/519 [==============================] - 22s 43ms/step - loss: 0.2650 - accuracy: 0.8883 - val_loss: 0.3086 - val_accuracy: 0.8645 - lr: 0.0100\n",
      "Epoch 15/20\n",
      "518/519 [============================>.] - ETA: 0s - loss: 0.2629 - accuracy: 0.8889WARNING:tensorflow:Learning rate reduction is conditioned on metric `val_acc` which is not available. Available metrics are: loss,accuracy,val_loss,val_accuracy,lr\n",
      "519/519 [==============================] - 22s 43ms/step - loss: 0.2630 - accuracy: 0.8888 - val_loss: 0.3042 - val_accuracy: 0.8688 - lr: 0.0100\n",
      "Epoch 16/20\n",
      "518/519 [============================>.] - ETA: 0s - loss: 0.2600 - accuracy: 0.8899WARNING:tensorflow:Learning rate reduction is conditioned on metric `val_acc` which is not available. Available metrics are: loss,accuracy,val_loss,val_accuracy,lr\n",
      "519/519 [==============================] - 23s 45ms/step - loss: 0.2600 - accuracy: 0.8898 - val_loss: 0.3016 - val_accuracy: 0.8695 - lr: 0.0100\n",
      "Epoch 17/20\n",
      "519/519 [==============================] - ETA: 0s - loss: 0.2563 - accuracy: 0.8923WARNING:tensorflow:Learning rate reduction is conditioned on metric `val_acc` which is not available. Available metrics are: loss,accuracy,val_loss,val_accuracy,lr\n",
      "519/519 [==============================] - 22s 42ms/step - loss: 0.2563 - accuracy: 0.8923 - val_loss: 0.3013 - val_accuracy: 0.8716 - lr: 0.0100\n",
      "Epoch 18/20\n",
      "519/519 [==============================] - ETA: 0s - loss: 0.2550 - accuracy: 0.8944WARNING:tensorflow:Learning rate reduction is conditioned on metric `val_acc` which is not available. Available metrics are: loss,accuracy,val_loss,val_accuracy,lr\n",
      "519/519 [==============================] - 21s 41ms/step - loss: 0.2550 - accuracy: 0.8944 - val_loss: 0.3018 - val_accuracy: 0.8668 - lr: 0.0100\n",
      "Epoch 19/20\n",
      "519/519 [==============================] - ETA: 0s - loss: 0.2513 - accuracy: 0.8943WARNING:tensorflow:Learning rate reduction is conditioned on metric `val_acc` which is not available. Available metrics are: loss,accuracy,val_loss,val_accuracy,lr\n",
      "519/519 [==============================] - 21s 40ms/step - loss: 0.2513 - accuracy: 0.8943 - val_loss: 0.2998 - val_accuracy: 0.8699 - lr: 0.0100\n",
      "Epoch 20/20\n",
      "519/519 [==============================] - ETA: 0s - loss: 0.2487 - accuracy: 0.8969WARNING:tensorflow:Learning rate reduction is conditioned on metric `val_acc` which is not available. Available metrics are: loss,accuracy,val_loss,val_accuracy,lr\n",
      "519/519 [==============================] - 21s 40ms/step - loss: 0.2487 - accuracy: 0.8969 - val_loss: 0.3262 - val_accuracy: 0.8640 - lr: 0.0100\n"
     ]
    }
   ],
   "source": [
    "history=model_gender.fit(\n",
    "    train_generator_gender, \n",
    "    epochs= 20,\n",
    "    validation_data= test_generator_gender,\n",
    "    callbacks= callbacks\n",
    ")"
   ]
  },
  {
   "cell_type": "code",
   "execution_count": 19,
   "id": "926aba33",
   "metadata": {},
   "outputs": [
    {
     "name": "stdout",
     "output_type": "stream",
     "text": [
      "223/223 [==============================] - 2s 11ms/step - loss: 0.3262 - accuracy: 0.8640\n"
     ]
    }
   ],
   "source": [
    "acc=model_gender.evaluate(test_generator_gender)"
   ]
  },
  {
   "cell_type": "code",
   "execution_count": 20,
   "id": "17a3cd59",
   "metadata": {},
   "outputs": [
    {
     "data": {
      "image/png": "[encoded data removed]",
      "text/plain": [
       "<Figure size 432x288 with 1 Axes>"
      ]
     },
     "metadata": {
      "needs_background": "light"
     },
     "output_type": "display_data"
    }
   ],
   "source": [
    "plt.plot(history.history['accuracy'])\n",
    "plt.plot(history.history['val_accuracy'])\n",
    "plt.title('model accuracy')\n",
    "plt.ylabel('accuracy')\n",
    "plt.xlabel('epoch')\n",
    "plt.legend(['train', 'val'], loc='upper left')\n",
    "plt.show()"
   ]
  },
  {
   "cell_type": "code",
   "execution_count": 21,
   "id": "ca32eed6",
   "metadata": {},
   "outputs": [
    {
     "data": {
      "image/png": "[encoded data removed]",
      "text/plain": [
       "<Figure size 432x288 with 1 Axes>"
      ]
     },
     "metadata": {
      "needs_background": "light"
     },
     "output_type": "display_data"
    }
   ],
   "source": [
    "plt.plot(history.history['loss'])\n",
    "plt.plot(history.history['val_loss'])\n",
    "plt.title('model loss')\n",
    "plt.ylabel('loss') \n",
    "plt.xlabel('epoch')\n",
    "plt.legend(['train', 'val'], loc='upper left')\n",
    "plt.show()"
   ]
  },
  {
   "cell_type": "code",
   "execution_count": null,
   "id": "71e56653",
   "metadata": {},
   "outputs": [],
   "source": []
  }
 ],
 "metadata": {
  "kernelspec": {
   "display_name": "Python 3 (ipykernel)",
   "language": "python",
   "name": "python3"
  },
  "language_info": {
   "codemirror_mode": {
    "name": "ipython",
    "version": 3
   },
   "file_extension": ".py",
   "mimetype": "text/x-python",
   "name": "python",
   "nbconvert_exporter": "python",
   "pygments_lexer": "ipython3",
   "version": "3.10.6"
  }
 },
 "nbformat": 4,
 "nbformat_minor": 5
}
